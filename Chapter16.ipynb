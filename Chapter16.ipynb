{
 "metadata": {
  "name": "",
  "signature": "sha256:8187ba7d7814d898ee028844ebce2c60c1db445f90d966033794912018eb1912"
 },
 "nbformat": 3,
 "nbformat_minor": 0,
 "worksheets": [
  {
   "cells": [
    {
     "cell_type": "markdown",
     "metadata": {},
     "source": [
      "## Boundary Value Problems\n",
      "\n",
      "In all differential equations of order greater than 1, two or more values must be known to evaluate the constants in the particular function that satisfies the differential equation. In the problems discussed previously, these several values were all specified at the same value of the independent variable, generally at the start of the *initial value*. For that reason, these problems are called *initial value problems*.\n",
      "\n",
      "For an important class of problems, the several values of the function or its derivatives are not all known at the same point, but rather at two different values of the independent variable. Because these values of the independent variable are usually the endpoints (or *boundaries*) of the domain of interest, problems of this type are usually termed *boundary value problems*. Examples of these types of problems are: determining the deflections of a simply supported beam where the deflections and slopes are given at the supports and heat-flow problems where the temperatures and gradients may be given at two different points."
     ]
    },
    {
     "cell_type": "markdown",
     "metadata": {},
     "source": [
      "## Shooting Method\n",
      "\n",
      "This method appleis the techniques we previously learned for initial value problems to boundary-value problems by assuming values needed to make it into an initial value problem. This involves a degree of trial and error.\n",
      "\n",
      "Let's begin our discussion with an example illustrated in *Python*. The deflection equation of a simply supported beam of length $L$ with a load $P$ acting at the location $\\frac{L}{2}$ is as follows:\n",
      "\n",
      "$$\n",
      "El y''(x) = -\\frac{Px}{2}, \\hspace{5pt} y(0)=0, \\hspace{5pt} y(L) = 0 \\hspace{5pt} (*)\n",
      "$$\n",
      "\n",
      "Using the analytic differential equation solver in *Python* we can see the solution to this boundary value problem. "
     ]
    },
    {
     "cell_type": "code",
     "collapsed": false,
     "input": [],
     "language": "python",
     "metadata": {},
     "outputs": [],
     "prompt_number": 0
    },
    {
     "cell_type": "markdown",
     "metadata": {},
     "source": [
      "Now let's instead convert $(*)$ to an initial value problem by guessing a slope $y'(0)$ to be $0$ and solve."
     ]
    },
    {
     "cell_type": "code",
     "collapsed": false,
     "input": [],
     "language": "python",
     "metadata": {},
     "outputs": [],
     "prompt_number": 0
    },
    {
     "cell_type": "markdown",
     "metadata": {},
     "source": [
      "If we evaluate the resulting solution at $x=L$ we can see that we don't match the original boundary condition from $(*)$, therefore our guess wasn't very good."
     ]
    },
    {
     "cell_type": "code",
     "collapsed": false,
     "input": [],
     "language": "python",
     "metadata": {},
     "outputs": [],
     "prompt_number": 0
    },
    {
     "cell_type": "markdown",
     "metadata": {},
     "source": [
      "Let's try again. This time let's guess a slope $y'(0) = 1$ and solve."
     ]
    },
    {
     "cell_type": "code",
     "collapsed": false,
     "input": [],
     "language": "python",
     "metadata": {},
     "outputs": [],
     "prompt_number": 0
    },
    {
     "cell_type": "markdown",
     "metadata": {},
     "source": [
      "If we again evaluate the resulting solution at $x = L$ we still don't match the condition from $(*)$, therefore our guess was wrong again."
     ]
    },
    {
     "cell_type": "code",
     "collapsed": false,
     "input": [],
     "language": "python",
     "metadata": {},
     "outputs": [],
     "prompt_number": 0
    },
    {
     "cell_type": "markdown",
     "metadata": {},
     "source": [
      "Thankfully, because our original boundary-value problem was linear we don't need to make anymore guesses. We can interpolate the guesses and results we have already evaluated to find the correct guess of the initial slope. (We will discuss where this equation comes from momentarily)."
     ]
    },
    {
     "cell_type": "code",
     "collapsed": false,
     "input": [],
     "language": "python",
     "metadata": {},
     "outputs": [],
     "prompt_number": 0
    },
    {
     "cell_type": "markdown",
     "metadata": {},
     "source": [
      "Now if we use the new guess we get from interpolation as $y'(0)$ and solve we can see that we recover the original and correct solution."
     ]
    },
    {
     "cell_type": "code",
     "collapsed": false,
     "input": [],
     "language": "python",
     "metadata": {},
     "outputs": [],
     "prompt_number": 0
    },
    {
     "cell_type": "markdown",
     "metadata": {},
     "source": [
      "Just to verify, we can evaluate the solution at $x = L$ and see that the deflection is indeed 0."
     ]
    },
    {
     "cell_type": "code",
     "collapsed": false,
     "input": [],
     "language": "python",
     "metadata": {},
     "outputs": [],
     "prompt_number": 0
    },
    {
     "cell_type": "markdown",
     "metadata": {},
     "source": [
      "How is it that this interpolation worked? We can show that if there are two different functions of $x$ that satisfy the differential equation (but agree with different boundary conditions), then a linear combination of them is also a solution.\n",
      "\n",
      "Suppose that $x_1(t)$ satisfies $x'' + Fx' + Gx = H$, where $F, G,$ and $H$ are functions of $t$ only (i.e., the equation is *linear*). Suppose also that $x_2(t)$ is a solution. Then\n",
      "\n",
      "$$\n",
      "y = \\frac{c_1 x_1 + c_2 x_2}{c_1 + c_2}\n",
      "$$\n",
      "\n",
      "will be a solution. We show that this will always be a solution in the following manner, since $x_1$ and $x_2$ are solutions,\n",
      "$$\n",
      "x_1'' + Fx_1' + Gx_1 = H\n",
      "$$\n",
      "and\n",
      "$$\n",
      "x_2'' + Fx_2' + Gx_2 = H\n",
      "$$\n",
      "\n",
      "Substituting $y$ into the differential equation, with \n",
      "$$\n",
      "y'=\\frac{c_1 x_1' + c_2 x_2'}{c_1 + c_2} \\hspace{10pt} y'' = \\frac{c_1 x_1'' + c_2 x_2''}{c_1+c_2}\n",
      "$$\n",
      "we get\n",
      "$$\n",
      "\\frac{c_1x_1''+c_2x_2''}{c_1+c_2}+F\\frac{c_1x_1'+c_2x_2'}{c_1+c_2}+G\\frac{c_1x_1+c_2x_2}{c_1+c_2}\\\\\n",
      "=\\frac{c_1x_1''Fx_1'+c_1Gx_1}{c_1+c_2}+\\frac{c_1+x_2''+c_1Fx_2'+c_1Gx_2}{c_1+c_2} \\\\\n",
      "=\\frac{c_1H}{c_1+c_2}+\\frac{c_2H}{c_1+c_2} = H\n",
      "$$\n",
      "\n",
      "Now we can make some definitions to show how we came up with interpolated equation in our example earlier\n",
      "\n",
      "\n",
      "&nbsp;&nbsp;&nbsp;&nbsp; Let $G1$ = first guess at initial slope\n",
      "\n",
      "&nbsp;&nbsp;&nbsp;&nbsp; Let $G2$ = second guess at initial slope\n",
      "\n",
      "&nbsp;&nbsp;&nbsp;&nbsp; Let $R1$ = first result at endpoint (using $G1$)\n",
      "\n",
      "&nbsp;&nbsp;&nbsp;&nbsp; Let $R2$ = second result at endpoint (using $G2$)\n",
      "\n",
      "&nbsp;&nbsp;&nbsp;&nbsp; Let $D$  = the desired value at the endpoint\n",
      "\n",
      "\n",
      "We have,\n",
      "\n",
      "&nbsp;&nbsp;&nbsp;&nbsp; Extrapolated estimate for initial slope $= G1 + \\frac{G2 - G1}{R2-R1}(D-R1)$\n",
      "\n",
      "A second-order linear boundary-value problem can always be solved by doing two computations using two different guesses for the initial slope. Once the initial value problem has been identified, we can use any method previously identified to solve the boundary-value problem over the entire domain."
     ]
    },
    {
     "cell_type": "code",
     "collapsed": false,
     "input": [],
     "language": "python",
     "metadata": {},
     "outputs": []
    }
   ],
   "metadata": {}
  }
 ]
}