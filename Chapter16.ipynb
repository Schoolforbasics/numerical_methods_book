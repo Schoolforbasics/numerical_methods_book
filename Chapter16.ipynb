{
 "metadata": {
  "name": "",
  "signature": "sha256:f832270dfb0bb165478c867330ed899f308aae9ba4f9552261fcc892a6ac32bb"
 },
 "nbformat": 3,
 "nbformat_minor": 0,
 "worksheets": [
  {
   "cells": [
    {
     "cell_type": "markdown",
     "metadata": {},
     "source": [
      "## Boundary Value Problems\n",
      "\n",
      "In all differential equations of order greater than 1, two or more values must be known to evaluate the constants in the particular function that satisfies the differential equation. In the problems discussed previously, these several values were all specified at the same value of the independent variable, generally at the start of the *initial value*. For that reason, these problems are called *initial value problems*.\n",
      "\n",
      "For an important class of problems, the several values of the function or its derivatives are not all known at the same point, but rather at two different values of the independent variable. Because these values of the independent variable are usually the endpoints (or *boundaries*) of the domain of interest, problems of this type are usually termed *boundary value problems*. Examples of these types of problems are: determining the deflections of a simply supported beam where the deflections and slopes are given at the supports and heat-flow problems where the temperatures and gradients may be given at two different points."
     ]
    },
    {
     "cell_type": "markdown",
     "metadata": {},
     "source": [
      "## Shooting Method\n",
      "\n",
      "This method appleis the techniques we previously learned for initial value problems to boundary-value problems by assuming values needed to make it into an initial value problem. This involves a degree of trial and error.\n",
      "\n",
      "Let's begin our discussion with an example illustrated in *Python*. The deflection equation of a simply supported beam of length $L$ with a load $P$ acting at the location $\\frac{L}{2}$ is as follows:\n",
      "\n",
      "$$\n",
      "El y''(x) = -\\frac{Px}{2}, \\hspace{5pt} y(0)=0, \\hspace{5pt} y(L) = 0 \\hspace{5pt} (*)\n",
      "$$\n",
      "\n",
      "Using the analytic differential equation solver in *Python* we can see the solution to this boundary value problem. "
     ]
    },
    {
     "cell_type": "code",
     "collapsed": false,
     "input": [],
     "language": "python",
     "metadata": {},
     "outputs": [],
     "prompt_number": 0
    },
    {
     "cell_type": "markdown",
     "metadata": {},
     "source": [
      "Now let's instead convert $(*)$ to an initial value problem by guessing a slope $y'(0)$ to be $0$ and solve."
     ]
    },
    {
     "cell_type": "code",
     "collapsed": false,
     "input": [],
     "language": "python",
     "metadata": {},
     "outputs": [],
     "prompt_number": 0
    },
    {
     "cell_type": "markdown",
     "metadata": {},
     "source": [
      "If we evaluate the resulting solution at $x=L$ we can see that we don't match the original boundary condition from $(*)$, therefore our guess wasn't very good."
     ]
    },
    {
     "cell_type": "code",
     "collapsed": false,
     "input": [],
     "language": "python",
     "metadata": {},
     "outputs": [],
     "prompt_number": 0
    },
    {
     "cell_type": "markdown",
     "metadata": {},
     "source": [
      "Let's try again. This time let's guess a slope $y'(0) = 1$ and solve."
     ]
    },
    {
     "cell_type": "code",
     "collapsed": false,
     "input": [],
     "language": "python",
     "metadata": {},
     "outputs": [],
     "prompt_number": 0
    },
    {
     "cell_type": "markdown",
     "metadata": {},
     "source": [
      "If we again evaluate the resulting solution at $x = L$ we still don't match the condition from $(*)$, therefore our guess was wrong again."
     ]
    },
    {
     "cell_type": "code",
     "collapsed": false,
     "input": [],
     "language": "python",
     "metadata": {},
     "outputs": [],
     "prompt_number": 0
    },
    {
     "cell_type": "markdown",
     "metadata": {},
     "source": [
      "Thankfully, because our original boundary-value problem was linear we don't need to make anymore guesses. We can interpolate the guesses and results we have already evaluated to find the correct guess of the initial slope. (We will discuss where this equation comes from momentarily)."
     ]
    },
    {
     "cell_type": "code",
     "collapsed": false,
     "input": [],
     "language": "python",
     "metadata": {},
     "outputs": [],
     "prompt_number": 0
    },
    {
     "cell_type": "markdown",
     "metadata": {},
     "source": [
      "Now if we use the new guess we get from interpolation as $y'(0)$ and solve we can see that we recover the original and correct solution."
     ]
    },
    {
     "cell_type": "code",
     "collapsed": false,
     "input": [],
     "language": "python",
     "metadata": {},
     "outputs": [],
     "prompt_number": 0
    },
    {
     "cell_type": "markdown",
     "metadata": {},
     "source": [
      "Just to verify, we can evaluate the solution at $x = L$ and see that the deflection is indeed 0."
     ]
    },
    {
     "cell_type": "code",
     "collapsed": false,
     "input": [],
     "language": "python",
     "metadata": {},
     "outputs": [],
     "prompt_number": 0
    },
    {
     "cell_type": "markdown",
     "metadata": {},
     "source": [
      "How is it that this interpolation worked? We can show that if there are two different functions of $x$ that satisfy the differential equation (but agree with different boundary conditions), then a linear combination of them is also a solution.\n",
      "\n",
      "Suppose that $x_1(t)$ satisfies $x'' + Fx' + Gx = H$, where $F, G,$ and $H$ are functions of $t$ only (i.e., the equation is *linear*). Suppose also that $x_2(t)$ is a solution. Then\n",
      "\n",
      "$$\n",
      "y = \\frac{c_1 x_1 + c_2 x_2}{c_1 + c_2}\n",
      "$$\n",
      "\n",
      "will be a solution. We show that this will always be a solution in the following manner, since $x_1$ and $x_2$ are solutions,\n",
      "$$\n",
      "x_1'' + Fx_1' + Gx_1 = H\n",
      "$$\n",
      "and\n",
      "$$\n",
      "x_2'' + Fx_2' + Gx_2 = H\n",
      "$$\n",
      "\n",
      "Substituting $y$ into the differential equation, with \n",
      "$$\n",
      "y'=\\frac{c_1 x_1' + c_2 x_2'}{c_1 + c_2} \\hspace{10pt} y'' = \\frac{c_1 x_1'' + c_2 x_2''}{c_1+c_2}\n",
      "$$\n",
      "we get\n",
      "$$\n",
      "\\frac{c_1x_1''+c_2x_2''}{c_1+c_2}+F\\frac{c_1x_1'+c_2x_2'}{c_1+c_2}+G\\frac{c_1x_1+c_2x_2}{c_1+c_2}\\\\\n",
      "=\\frac{c_1x_1''Fx_1'+c_1Gx_1}{c_1+c_2}+\\frac{c_1+x_2''+c_1Fx_2'+c_1Gx_2}{c_1+c_2} \\\\\n",
      "=\\frac{c_1H}{c_1+c_2}+\\frac{c_2H}{c_1+c_2} = H\n",
      "$$\n",
      "\n",
      "Now we can make some definitions to show how we came up with interpolated equation in our example earlier\n",
      "\n",
      "\n",
      "&nbsp;&nbsp;&nbsp;&nbsp; Let $G1$ = first guess at initial slope\n",
      "\n",
      "&nbsp;&nbsp;&nbsp;&nbsp; Let $G2$ = second guess at initial slope\n",
      "\n",
      "&nbsp;&nbsp;&nbsp;&nbsp; Let $R1$ = first result at endpoint (using $G1$)\n",
      "\n",
      "&nbsp;&nbsp;&nbsp;&nbsp; Let $R2$ = second result at endpoint (using $G2$)\n",
      "\n",
      "&nbsp;&nbsp;&nbsp;&nbsp; Let $D$  = the desired value at the endpoint\n",
      "\n",
      "\n",
      "We have,\n",
      "\n",
      "&nbsp;&nbsp;&nbsp;&nbsp; Extrapolated estimate for initial slope $= G1 + \\frac{G2 - G1}{R2-R1}(D-R1)$\n",
      "\n",
      "A second-order linear boundary-value problem can always be solved by doing two computations using two different guesses for the initial slope. Once the initial value problem has been identified, we can use any method previously identified to solve the boundary-value problem over the entire domain."
     ]
    },
    {
     "cell_type": "markdown",
     "metadata": {},
     "source": [
      "## Psuedocode for Linear Shooting Method\n",
      "\n",
      "To approximate the solution of the boundary-value problem\n",
      "$$\n",
      "-y'' + p(x)y' + q(x) + r(x) = 0, \\hspace{5pt} a\\leq x \\leq b, \\hspace{5pt} y(a) = \\alpha, \\hspace{5pt} y(b) = \\beta\n",
      "$$\n",
      "  1. Set $h = \\frac{b-a}{N}$\n",
      "  1. Set $u_{1,0} = \\alpha$\n",
      "  1. Set $u_{2,0} = 0$\n",
      "  1. Set $v_{1,0} = 0$\n",
      "  1. Set $v_{2,0} = 1$\n",
      "  1. For $i = 0, ..., N-1$ do Steps A-U $\\hspace{10pt}$(R-K method ofr systems is used here, but could be any method for initial-value problems)\n",
      "    1. Set $x=a+ih$\n",
      "    1. Set $k_{1,1} = hu_{2,i}$\n",
      "    1. Set $k_{1,2} = h\\left[p(x)u_{2,i} + q(x) u_{1,i} + r(x)\\right]$\n",
      "    1. Set $k_{2,1} = h\\left[u_{2,i} + \\frac{1}{2} k_{1,2}\\right]$\n",
      "    1. Set $k_{2,2} = h\\left[p(x+\\frac{h}{2})(u_{2,i}+\\frac{1}{2}k_{1,2})+q(x+\\frac{h}{2})(u_{1,i}+\\frac{1}{2}k_{1,1})+r(x+\\frac{h}{2})\\right]$\n",
      "    1. Set $k_{3,1} = h\\left[u_{2,i} + \\frac{1}{2} k_{2,2}\\right]$\n",
      "    1. Set $k_{3,2} = h\\left[p(x+\\frac{h}{2})(u_{2,i}+\\frac{1}{2}k_{2,2})+q(x+\\frac{h}{2})(u_{1,i}+\\frac{1}{2}k_{2,1})+r(x+\\frac{h}{2})\\right]$\n",
      "    1. Set $k_{4,1} = h\\left[u_{2,i}+k_{3,2}\\right]$\n",
      "    1. Set $k_{4,2} = h\\left[p(x+h)(u_{2,i}+k_{3,2})+q(x+h)(u_{1,i}+k_{3,1})+r(x+h)\\right]$\n",
      "    1. Set $u_{1,i+1} = u_{1,i}+\\frac{1}{6}\\left[k_{1,1}+2k_{2,1}+2k_{3,1}+k_{4,1}\\right]$\n",
      "    1. Set $u_{2,i+1} = u_{2,i}+\\frac{1}{6}\\left[k_{1,2}+2k_{2,2}+2k_{3,2}+k_{4,2}\\right]$\n",
      "    1. Set $k_{1,1}' = hv_{2,i}$\n",
      "    1. Set $k_{1,2}' = h\\left[p(x)v_{2,i}+q(x)v_{1,i}\\right]$\n",
      "    1. Set $k_{2,1}' = h\\left[p(v_{2,i}+\\frac{1}{2}k_{1,2}'\\right]$\n",
      "    1. Set $k_{2,2}' = h\\left[p(x+\\frac{h}{2})(v_{2,i}+\\frac{1}{2}k_{1,2}')+q(x+\\frac{h}{2})(v_{1,i}+\\frac{1}{2}k_{1,1}')\\right]$\n",
      "    1. Set $k_{3,1}' = h\\left[v_{2,i}+\\frac{1}{2}k_{2,2}'\\right]$\n",
      "    1. Set $k_{3,2}' = h\\left[p(x+\\frac{h}{2})(v_{2,i}+\\frac{1}{2}k_{2,2}')+q(x+\\frac{h}{2})(v_{1,i}+\\frac{1}{2}k_{2,1}')\\right]$\n",
      "    1. Set $k_{4,1}' = h\\left[v_{2,i}+k_{3,2}'\\right]$\n",
      "    1. Set $k_{4,2}' = h\\left[p(x+h)(v_{2,i}+k_{3,2}')+q(x+h)(v_{1,i}+k_{3,1}')\\right]$\n",
      "    1. Set $v_{1,i+1} = v_{1,i} + \\frac{1}{6} \\left[k_{1,1}' + 2k_{2,1}' + 2k_{3,1}' + k_{4,1}'\\right]$\n",
      "    1. Set $v_{2,i+1} = v_{2,i} + \\frac{1}{6} \\left[k_{1,2}' + 2k_{2,2}' + 2k_{3,2}' + k_{4,2}'\\right]$\n",
      "  1. Set $w_{1,0} = \\alpha$\n",
      "  1. Set $w_{2,0} = \\frac{\\beta - u_{1,N}}{v_{1,N}}$\n",
      "  1. For $i = 1, ..., N$ do Steps A-C\n",
      "    1. Set $w_{1,i} = u_{1,i} + w_{2,0}v_{1,i}$\n",
      "    1. Set $w_{2,i} = u_{2,i} + w_{2,0}v_{2,i}$\n",
      "    1. Set $x = a+ih$"
     ]
    },
    {
     "cell_type": "markdown",
     "metadata": {},
     "source": [
      "## Finite Difference Methods\n",
      "\n",
      "So far we've learned to approximate derivatives with either forward or backward differences, these difference approximations have an error term that is $O(h)$. Central-difference approximations to derivatives have an error term that is $O(h^3)$, therefore slightly more accurate. The central difference approximations to the first and second derivatives of $x$ with respect to $t$ is as follows:\n",
      "$$\n",
      "\\frac{dx}{dt}|_{t=t_i} = \\frac{x_{i+1}-x_{i-1}}{2h} + O(h^2)\\\\\n",
      "\\frac{d^2x}{dt^2}|_{t=t_i} = \\frac{x_{i+1}-2x_i+x_{i-1}}{h^2} + O(h^2)\n",
      "$$\n",
      "\n",
      "To illustrate how we can use these central difference approximations in the solution of problems, let us consider the following boundary-value problem\n",
      "$$\n",
      "\\frac{d^2x}{dt^2} - (1-\\frac{t}{5})x = t, \\hspace{5pt} x(1) = 2, \\hspace{5pt} x(3) = -1\n",
      "$$\n",
      "If we substitute the central-difference approximations into this equation and rearrange we have:\n",
      "$$\n",
      "\\frac{x_{i+1}-2x_{i} + x_{i-1}}{h^2} - (1-\\frac{t_i}{5})x_i = t_i ,\\\\\n",
      "x_{i-1} - \\left[2 + h^2(1-\\frac{t_i}{5})\\right]x_i+x_{i+1} = h^2t_i\n",
      "$$\n",
      "where $h$ represents the constant difference in $t$-values. This equation represents an approximation to the original equation on the interval $t=1$ to $t=3$. Let's subdivide the interval into a number of equal subintervals. For example, if $h = \\frac{1}{2}$, the points\n",
      "$$\n",
      "t_1 = 1, \\hspace{5pt} t_2 = 1.5, \\hspace{5pt} t_3 = 2, \\hspace{5pt}t_4 = 2.5, \\hspace{5pt} \\& \\hspace{5pt} t_5 = 3\n",
      "$$\n",
      "subdivide the interval into four subintervals. We write the difference equation for each of these values of $t$ at which $x$ is unkown giving\n",
      "$$\n",
      "at \\hspace{5pt} t=t_2=1.5; \\hspace{10pt} x_1 - \\left[2 + (\\frac{1}{2})(\\frac{1}{2})(1-\\frac{1.5}{5})\\right]x_2 + x_3 = (\\frac{1}{2})(\\frac{1}{2})(1.5)\\\\\n",
      "at \\hspace{5pt} t=t_3=2; \\hspace{10pt}x_2\\left[2+(\\frac{1}{2})(\\frac{1}{2})(1-\\frac{2.0}{5})\\right]x_3+x_4=(\\frac{1}{2})(\\frac{1}{2})(2.0)\\\\\n",
      "at \\hspace{5pt} t=t_4=3; \\hspace{10pt}x_3\\left[2+(\\frac{1}{2})(\\frac{1}{2})(1-\\frac{2.5}{5})\\right]x_5+x_5=(\\frac{1}{2})(\\frac{1}{2})(2.5)\n",
      "$$\n",
      "we know the values $x_1 = 2$, and $x_5 =-1$ since they are supplied boundary values. If we insert them into the equations above and simplify, we have hte following matrix equation.\n",
      "$$\n",
      "\\begin{pmatrix}-2.175&1&0\\\\1&-2.150&1\\\\0&1&-2.125\\end{pmatrix}\\begin{pmatrix}x_2\\\\x_3\\\\x_4\\end{pmatrix} = \\begin{pmatrix}-1.625\\\\0.5\\\\1.625\\end{pmatrix}\n",
      "$$\n",
      "we can solve this equation with Gaussian elimination as we have previously learned. This gives the following solution\n",
      "$$\n",
      "x_2 = 0.552, \\hspace{10pt} x_3 =-0.424, \\hspace{10pt} x_4=-0.964\n",
      "$$\n",
      "This is pretty close to the answer we would have gotten using the shooting method. Notice that the matrix is tridiagonal, this makes it very computationally efficient to solve and memory efficient too, because it's unecessary to store all the zeros, we can devise a solving scheme that only stores the three diagonals and solves the equations very quickly. This is a characteristic of finite-difference methods and one reason why one may prefer them over the shooting method."
     ]
    },
    {
     "cell_type": "markdown",
     "metadata": {},
     "source": [
      "## Comments on Step Size and Accuracy\n",
      "\n",
      "We might anticipate that the error between the finite-difference approximated solution and the exact solution would decrease proportionally to $h^2$ since the approximations to the derivatives are of error $O(h^2)$. To observe how the errors decrease when $h$ decreases, we look at another example, one where the exact solution is known. Consider, \n",
      "$$\n",
      "\\frac{d^2y}{dx^2} = y \\hspace{10pt} y(1)=1.1752, \\hspace{10pt} y(3) = 10.0179\n",
      "$$\n",
      "This function has the analytic solution $y=sinh(x)$.\n",
      "\n",
      "While it is not strictly necessary, it is common to normalize the function to theinterval (0,1). We do this for computational purposes to get an idea of exactly what is \"large\" and \"small.\" We do this by the change of variable:\n",
      "$$\n",
      "x = (b-a)t+a\n",
      "$$\n",
      "where $(a,b)$ is the original interval to be normalized. Letting $x=2t+1$, we write\n",
      "$$\n",
      "\\frac{dy}{dx} = \\frac{dy}{dt}\\frac{dt}{dx} = \\frac{1}{2}\\frac{dy}{dt},\\\\\n",
      "\\frac{d^2y}{dx^2} = \\frac{d}{dt}(\\frac{1}{2}\\frac{dy}{dt})\\frac{dt}{dx} = \\frac{1}{2^2} \\frac{d^2y}{dt^2},\n",
      "$$\n",
      "then the problem becomes\n",
      "$$\n",
      "\\frac{d^2y}{dt^2} = 4y, \\hspace{10pt} y(0)=1.1752, \\hspace{10pt} y(1)=10.0179\n",
      "$$\n",
      "Replacing the second dderivative by the central-difference approximation, and thus converting the differential equation to a difference equation, we have\n",
      "$$\n",
      "\\frac{y_{i+1}-2y_{i}+y_{i-1}}{h^2} = 4y_i, \\hspace{10pt} i=1,2,3,...,n\n",
      "$$\n",
      "Using $h = 0.25$ and write the difference equation at the three internal poitns where $y$ is unknown, we have the set of equations\n",
      "$$\n",
      "\\begin{pmatrix}-2.25&1&0\\\\1&-2.25&1\\\\0&1&-2.25\\end{pmatrix}\\begin{pmatrix}y_2\\\\y_3\\\\y_4\\end{pmatrix} = \\begin{pmatrix}-1.1752\\\\0\\\\-10.0179\\end{pmatrix}\n",
      "$$\n",
      "Let's compare the solution to this system to the exact values and look at the errors\n",
      "\n",
      "| $t$ | $x$ | Calculated $y$ | $sinh(x)$ | Error |\n",
      "|:---:|:---:|:--------------:|:---------:|:-----:|\n",
      "|0.25 | 1.5 | 2.1467 | 2.1293 | -0.0174 |\n",
      "|0.50 | 2.0 | 3.6549 | 3.6269 | -0.0280 |\n",
      "|0.75 | 2.5 | 6.0768 | 6.0502 | -0.0266 |\n",
      "\n",
      "If we recalculate this problem using varying values of $h$, we get the results shown below for $y$ at $x=2.0$\n",
      "\n",
      "|No. of equations | $h$ for normalized interval | Result | Error|\n",
      "|:---:|:---:|:---:|:---:|\n",
      "| 1 | 0.50 | 3.7310 | -0.1041 | \n",
      "| 3 | 0.25 | 3.6549 | -0.0280 | \n",
      "| 7 | 0.125| 3.6340 | -0.0071 |\n",
      "\n",
      "We observe an approximate fourfold decrease in the error when the step size is halved, meaning an $O(h^2)$ error does exist."
     ]
    },
    {
     "cell_type": "markdown",
     "metadata": {},
     "source": [
      "## Non-linear difference equations\n",
      "\n",
      "When the differential equation describing a boundary-value problem is nonlinear, the method of finite-differences fruns into a problem in that the resulting system of equations is nonlinear. Consider the following non-linear equation\n",
      "$$\n",
      "\\frac{d^2x}{dt^2} - (1-\\frac{t}{5})(\\frac{dx}{dt})x=t, \\hspace{5pt} x(1)=2, \\hspace{5pt} x(3)=-1\n",
      "$$\n",
      "Now substituting in the central-difference approximations, we get the equivalent difference equation:\n",
      "$$\n",
      "x_{i-1}-\\left[2+\\frac{h}{2}(1-\\frac{t_i}{5})(x_{i+1}-x_{i-1})\\right]x_{i}+x_{i+1} = h^2 t_{i}, \\hspace{5pt} i=1,2,3,...,n\n",
      "$$\n",
      "This is a nonlinear equation and the standard elimination method fails for these equations. We need to use an iteration technique in these cases. If we obtain some estimate of the $x$-vector, the solution to the equations. We could use these values as a means of approximation to the coefficient of $x_i$ in the equation above. When this is done, $x(1)=2$ and $x(3) = -1$,t he following values result.\n",
      "\n",
      "| $t$ | Initial Estimate | 1 iteration | 2 iterations | 4 iterations | 8 iterations |\n",
      "|:---:|:---:|:---:|:---:|:---:|:---:|\n",
      "| 1.0 | 2.000 | - | - | - | - |\n",
      "| 1.2 | 1.700 | 1.431 | 1.601 | 1.558 | 1.552 |\n",
      "| 1.4 | 1.400 | 0.845 | 1.110 | 1.048 | 1.039 |\n",
      "| 1.6 | 1.100 | 0.279 | 0.583 | 0.513 | 0.503 |\n",
      "| 1.8 | 0.800 |-0.235 | 0.077 | 0.006 |-0.005 |\n",
      "| 2.0 | 0.500 |-0.668 |-0.362 |-0.430 |-0.440 |\n",
      "| 2.2 | 0.200 |-0.997 |-0.704 |-0.766 |-0.775 |\n",
      "| 2.4 |-0.100 |-0.204 |-0.937 |-0.990 |-0.998 |\n",
      "| 2.6 |-0.400 |-1.278 |-1.061 |-1.101 |-1.107 |\n",
      "| 2.8 |-0.700 |-1.211 |-0.080 |-1.104 |-1.107 |\n",
      "| 3.0 |-1.000 | - | - | - | - |\n",
      "\n",
      "Further iterations after the eighth did not change the answers. If you can find a good approximation to the solution vector than this method is a decent technique to use for nonlinear equations however when a good estimate is not available and the equations are strongly nonlinear (int he equation above the nonlinearity is diluted by using a small step size and the coefficient term will be dominated by the constant 2) this technique may not converge."
     ]
    },
    {
     "cell_type": "markdown",
     "metadata": {},
     "source": [
      "## Derivative Boundary Conditions\n",
      "\n",
      "The conditions that the solution of a differential equation must satisfy need not necessarily be just the value of the function. In many applied problems, some derivatives of the function may be known at the boundaries of an interval. In the more general case a linear combination of the function and its derivatives is specified. The finite-difference procedure needs modification for this type of boundary conditions. We will illustrate by example, using the problem from before, but this time with derivative boundary conditions:\n",
      "$$\n",
      "\\frac{d^2y}{dt^2} = y \\hspace{5pt} y'(1) = 1.1752, \\hspace{5pt} y'(3) = 10.0179\n",
      "$$\n",
      "This function as the analytic solution $y=cosh(x)$. We begin just as before. We change variables to make the interval $(0,1)$ by letting $x=2t+1$.\n",
      "$$\n",
      "\\frac{d^2}{dt^2}=4y,\\hspace{5pt} y'(0) = 1.1752, \\hspace{5pt} y'(1) = 10.0179\n",
      "$$\n",
      "We now replace the derivative by a central-difference approximation and write the difference equation at each point where $y$ is unkown. With $h=0.25$,\n",
      "\n",
      "&nbsp;&nbsp;&nbsp;&nbsp;&nbsp;&nbsp;&nbsp; at $t=0; \\hspace{20pt} y_| - 2.25y_{1} + y_2 = 0;$\n",
      "\n",
      "&nbsp;&nbsp;&nbsp;&nbsp;&nbsp;&nbsp;&nbsp; at $t=0.25; \\hspace{8pt} y_1 - 2.25y_2 + y_3 = 0;$\n",
      "\n",
      "&nbsp;&nbsp;&nbsp;&nbsp;&nbsp;&nbsp;&nbsp; at $t=0.50; \\hspace{8pt} y_2 - 2.25y_3 + y_4 = 0;$\n",
      "\n",
      "&nbsp;&nbsp;&nbsp;&nbsp;&nbsp;&nbsp;&nbsp; at $t=0.75; \\hspace{8pt} y_3 - 2.25y_4 + y_5 = 0;$\n",
      "\n",
      "&nbsp;&nbsp;&nbsp;&nbsp;&nbsp;&nbsp;&nbsp; at $t=1.00; \\hspace{8pt} y_4 - 2.25y_5 + y_r = 0;$\n",
      "\n",
      "There are two more equations than previously because $y$ is unkown at $t=0$ and $t=1$ as well as the interior points. These two additional equations involve the values of $y_|$ and $y_{r}$, points one space to the left and to the right of the interval $(0,1)$. We can assume that the domain can be extended. The 5 equations above contain 7 unknowns therefore we cannot solve them until we apply the boundary conditions. Let us now express the boudnary conditions using our central-difference approximations:\n",
      "$$\n",
      "\\frac{dy}{dx}|_{x_1} = \\frac{dy}{dt} \\frac{dt}{dx} |_{t=0} = (\\frac{1}{2}) \\frac{y_2-y_{|}}{2h} = 1.1752, \\hspace{10pt} y_{|} = y_{2} - (4)(0.25)(1.1752)\\\\\n",
      "\\frac{dy}{dx}_{x_3} = \\frac{dy}{dt}\\frac{dt}{dx}|_{t=1} = (\\frac{1}{2})\\frac{y_r-y_{4}}{2h} = 10.0179, \\hspace{10pt} y_r = y_4 + (4)(0.25)(10.0179)\n",
      "$$\n",
      "These two additional equations give us enough equations to solve for the unknowns in the system. The solution is given below:\n",
      "\n",
      "| $t$ | $x$ | Calculated $y$ | $cosh(x)$ | Error |\n",
      "|:---:|:---:|:---:|:---:|:---:|\n",
      "| 0 | 1.0 | 1.5522 | 1.5431 | -0.0091 |\n",
      "| 0.25 | 1.5 | 2.3338 | 2.3524 | -0.0186 |\n",
      "| 0.50 | 2.0 | 3.6989 | 3.7622 | 0.0633 |\n",
      "| 0.75 | 2.5 | 5.9887 | 6.1323 | 0.1436 | \n",
      "| 1.0 | 3.0 | 9.7757 | 10.0677 | 0.2920 |\n",
      "\n",
      "Observe that the errors are quite a bit larger here than they were when we knew the value of the function at the endpoints. Our approximation for the derivative is poor at large $x$-values. Repeating the calculations with $h$ cut in half reduces the error fourfold."
     ]
    },
    {
     "cell_type": "markdown",
     "metadata": {},
     "source": [
      "## Pseudocode for Linear Finite Difference"
     ]
    }
   ],
   "metadata": {}
  }
 ]
}