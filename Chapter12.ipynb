{
 "metadata": {
  "name": "",
  "signature": "sha256:509d72df1f3fb4dc3918a7298292c14f2dfabd8716976f991c41c479bc1b44cc"
 },
 "nbformat": 3,
 "nbformat_minor": 0,
 "worksheets": [
  {
   "cells": [
    {
     "cell_type": "markdown",
     "metadata": {},
     "source": [
      "## Summary of Newton-Cotes formulas\n",
      "\n",
      "&nbsp;&nbsp;&nbsp;&nbsp;&nbsp;&nbsp; $ \\int_{x_0}^{x_1} f(x) dx = \\frac{h}{2} (f_0 + f_1) - \\frac{1}{12} h^3 f''(\\xi)$\n",
      "\n",
      "&nbsp;&nbsp;&nbsp;&nbsp;&nbsp;&nbsp; $ \\int_{x_0}^{x_2} f(x) dx = \\frac{h}{3} (f_0 + 4f_1 + f_2) - \\frac{1}{90} h^5 f''''(\\xi)$\n",
      "\n",
      "&nbsp;&nbsp;&nbsp;&nbsp;&nbsp;&nbsp; $ \\int_{x_0}^{x_3} f(x) dx = \\frac{3h}{8}(f_0 + 3f_1 + 3f_2 + f_3) - \\frac{3}{80}h^5 f''''(\\xi)$\n",
      "\n",
      "Notice that for both $n=2$ and $n=3$ the error terms are $O(h^5)$. This means that the error of integration using a quadratic is similar to the integral using a cubic. Also notice that the quadratic's coefficient $(-\\frac{1}{90})$ is smaller than the coefficient for the cubic $(-\\frac{3}{80})$. The formula based on the quadratic is unexpectedly accurate. This phenomenon is true of all the even-order Newton-Cotes formulas; each has an order of $h$ in its error termt hat is the same as the formula for the next heighest order. This suggests that the even-order rules are especially useful."
     ]
    },
    {
     "cell_type": "markdown",
     "metadata": {},
     "source": [
      "## Trapezoid Rule\n",
      "\n",
      "The first Newton-Cotes formula, based on approximating $f(x)$ on $(x_0, x_1)$ by a straight line, is called the trapezoid rule."
     ]
    },
    {
     "cell_type": "code",
     "collapsed": false,
     "input": [],
     "language": "python",
     "metadata": {},
     "outputs": [],
     "prompt_number": 0
    },
    {
     "cell_type": "markdown",
     "metadata": {},
     "source": [
      "If we wish to apply the forumla for an extended region (more than one interval) of equispaced poitns we have\n",
      "\n",
      "$$ \\int_{x_i}^{x_{i+1}} f(x) dx = \\frac{f(x_i)+f(x_{i+1})}{2}(\\Delta x) = \\frac{h}{2}(f_i + f_{i+1})$$\n",
      "\n",
      "For $(a,b)$ subdivided into sub intervals of size $h$.\n",
      "\n",
      "$$\\int_a^b f(x)dx = \\sum_{i=1}^n \\frac{h}{2}(f_i + f_{i+1}) = \\frac{h}{2}(f_1 + f_2 + f_2 + f_3 + f_3 + ... + f_n + f_{n+1})\\\\\n",
      "\\int_a^b f(x) dx = \\frac{h}{2}(f_1 + 2f_2 + ... + 2f_n + f_{n+1})$$\n",
      "\n",
      "This is known as *extended trapezoid rule.* Recalling from the error of Newton-Cotes formula we have the local error (the error for a single step) for trapezoid rule as\n",
      "\n",
      "$$ Local Error = -\\frac{1}{12} h^3 f''(\\xi_1), x_0 \\leq \\xi_1 \\leq x_1$$\n",
      "\n",
      "But we normally apply the trapezoid rule to a series of sub intervals, so the global error would be something like\n",
      "\n",
      "$$Global Error = -\\frac{1}{12} h^3 [f''(\\xi_1) + f''(\\xi_2) + ... + f''(\\xi_n)]$$\n",
      "\n",
      "If we assume that $f''(x)$ is continuous on $(a,b)$, there is some value of $x$ in $(a,b)$, say $x = \\xi$ at which the value of $[f''(\\xi_1) + f''(\\xi_2) + ... + f''(\\xi_n)] = nf''(\\xi)$. Then since $n h = b-a$ we have\n",
      "\n",
      "$$Global Error = -\\frac{1}{12} h^3 f''(\\xi) = -\\frac{(b-a)}{12}h^2 nf''(\\xi) = O(h^2)$$"
     ]
    },
    {
     "cell_type": "markdown",
     "metadata": {},
     "source": [
      "## Simpson's Rules\n",
      "\n",
      "The Newton-Cotes formulas based on quadratic and cubic polynomails are widely used. They are typically known as Simpson's rules. The second-degree Newton-Cotes formula integrates a quadratic over $2\\Delta x$ intervals that are of uniform width. Repeating from earlier:\n",
      "\n",
      "$$ \\int_{x_0}^{x_2} f(x)dx = \\frac{h}{3}(f_0 + 4f_1 + f_2) - \\frac{h^5}{90}f''''(\\xi), x_0 \\leq \\xi \\leq x_2$$\n",
      "\n",
      "This is the popular Simpson's $\\frac{1}{3}$ rule, which has a local error of $O(h^5)$. If we apply this to a succession of pairs of intervals to evaluate $\\int_a^b f(x)dx$, we get\n",
      "\n",
      "$$\\int_a^b f(x) dx = \\frac{h}{3}(f_1 + 4f_2 + 2f_3 + 4f_4 + 2f_5 + ... + 2f_{n-1} + 4f_n + f_{n+1})-\\frac{(b-a)}{180} h^4 f''''(\\xi), x_1 \\leq \\xi \\leq x_{n+1} $$\n",
      "\n",
      "Below is a plot which illustrates the idea of Simpson's $\\frac{1}{3}$rule. Since we integrate over two intervals each time, we require that the data is subdivided into an even number of intervals."
     ]
    },
    {
     "cell_type": "code",
     "collapsed": false,
     "input": [],
     "language": "python",
     "metadata": {},
     "outputs": [],
     "prompt_number": 0
    },
    {
     "cell_type": "markdown",
     "metadata": {},
     "source": [
      "The third Newton-Cotes formula that finds frequent use is obtained by integrating a cubic interpolation polynomial over its range of fir. The local rule (from the previous section) is:\n",
      "\n",
      "$$\\int_{x_0}^{x_3} f(x) dx = \\frac{3h}{8}(f_0 + 3f_1 + 3f_2 + f_3) - \\frac{3}{80}h^5f''''(\\xi), x_0 \\leq \\xi \\leq x_3$$\n",
      "\n",
      "This is Simpson's $\\frac{3}{8}$ rule, which has a local error of $O(h^5)$. If we apply this to a succession of triplicates of intervals to evaluate $\\int_a^b f(x) dx$, we get\n",
      "\n",
      "$$\\int_a^b f(x) dx = \\frac{3h}{8}(f_1 + 3f_2 + 3f_3 + 2f_4 + 3f_5 + 3f_6 + ... + 2f_{n-2} +3f_{n-1} + 3f_n + f_{n+1}) - \\frac{(b-a)}{80}h^4 f''''(\\xi), x_1 \\leq \\xi \\leq x_{n+1}$$\n",
      "\n",
      "Below is a plot which illustrates the idea of Simpson's $\\frac{3}{8}$ rule. Since we integrate over three intervals each time, we require that the data is subdivided into a number of intervals divisible by three. But, as we have seen, the order of the global error for both of Simpson's rules is $O(h^4)$ and the coefficient for the $\\frac{3}{8}$ rule is larger. One might wonder why we would ever use the $\\frac{3}{8}$ rule, and this is a valid observation. In pratice it is often not true that tabulated data is divisible by 2. In these cases we typically combine the two methods, applying Simpson's $\\frac{1}{3}$ rule to all the data except for the last three intervals in which we pick up with the Simpson's $\\frac{3}{8}$ rule."
     ]
    },
    {
     "cell_type": "code",
     "collapsed": false,
     "input": [],
     "language": "python",
     "metadata": {},
     "outputs": [],
     "prompt_number": 0
    },
    {
     "cell_type": "markdown",
     "metadata": {},
     "source": [
      "## Psuedocode for Simpson's Rule\n",
      "\n",
      "The following pseudocode is used to approximate the integral $I = \\int_a^b f(x)dx$ using Simpson's $\\frac{1}{3}$ rule. The same approach can be used with minor modifications for Trapezoid rule and Simpson's $\\frac{3}{8}$ rule.\n",
      "\n",
      "  1. Set $h=(b-a)/n$ where $n$ is the number of intervals int eh larger interval $(a,b)$\n",
      "  1. Set $XI0 = f(a) + f(b)$\n",
      "  1. Set $XI1 = 0$\n",
      "  1. Set $XI2 = 0$\n",
      "  1. For $i = 1, ..., n-1$ do Steps A-C\n",
      "    1. Set $X = a + i h$\n",
      "    1. If $i$ is even do Step a, if not do Step b\n",
      "      1. Set $XI2 = XI2 + f(X)$\n",
      "      1. Set $XI1 = XI1 + f(X)$\n",
      "    1. Set $XI = h(XI0 + 2XI2 + 4XI1)/3$"
     ]
    },
    {
     "cell_type": "markdown",
     "metadata": {},
     "source": [
      "## Other ways of deriving intergration formulas\n",
      "\n",
      "We can use the symbolic tools we developed for deriving differentiation formulas in the last lecture in the exact same way for integration formulas.  This is a somewhat straightforward procedure, therefore it will be omitted here in favor of another technique.  This method may be called the *method of undetermined coefficients*. We express the formula as a sum of $n+1$ terms with unknown coefficients, and then evaluate the coefficients by requiring that the formula be exact for all polynomails of the degree $n$ or less. Let's look at an example where we express the integral as a weighted sum of three equispaced function values over the limits of integration.\n",
      "\n",
      "$$\\int_{-1}^{1} f(x)dx = af(-1)+bf(0)+cf(1)$$\n",
      "\n",
      "Since the formula contains three terms, we can require it to be correct for all polynomails of degree 2 or less. This process is illustrated below:\n",
      "\n",
      "$$\n",
      "f(x) = 1; \\int_{-1}^1 1dx = 2 = a(1) + b(1) + c(1) = a+b+c\\\\\n",
      "f(x) = x; \\int_{-1}^1 xdx = 0 = a(-1)+ b(0) + c(1) = -a+c\\\\\n",
      "f(x) = x^2;\\int_{-1}^1x^2dx=\\frac{2}{3}=a(1)+b(0)+c(1)=a+c\n",
      "$$\n",
      "\n",
      "Solving these three equations simultaneously gives $a = \\frac{2}{3}, b = \\frac{4}{3}, c = \\frac{1}{3}$. Here the spacing was 1, but the integral will be proportional to $\\Delta x = h$. We then get Simpson's $\\frac{1}{3} rule:\n",
      "\n",
      "$$\\int_{-h}^h f(x) dx = h[\\frac{1}{3}f(-h) + \\frac{4}{3}f(0) + \\frac{1}{3}f(h)]$$"
     ]
    },
    {
     "cell_type": "markdown",
     "metadata": {},
     "source": [
      "## Gaussian Quadrature\n",
      "\n",
      "The Newton-Cotes formulas for numerical integration were all developed on evenly spaced $x$-values, this means that the $x$ values were predetermined, possible as a result of experimental data acquisition or by eveluating an explicity known function at equal intervals. For a Newton-Cotes formula of three terms, then, there were three parameters: the coefficients (weighting factors) applied to each of the functional values. A formula with three parameters corresponds to a polynomial of the second degree, one less than the number of parameters. Gauss oberserved that if we remove the requirement that the function be evaluated at predetermined $x$-values, a three term formula will contain six parameters (the $x$-values are now unknowns, plus the three weights) and should correspond to an interpolation polynomial of degree 5. Formulas based ont his principle are called *Gaussian quadrature formulas*. They can be applied only when $f(x)$ is explicitly known, so that it can be evaluated at any desired value of $x$.\n",
      "\n",
      "We will determine the parameters in the simple case of a two-term formula containing four unknown parameters:\n",
      "\n",
      "$$\\int_{-1}^1 f(t)d dt = af(t_1) + bf(t_2)$$\n",
      "\n",
      "We use a symmetric interval of integration to simplify the arithmetic and follow the methodology of undetermined coefficients. We wish to have a formula that is valid for any polynomial of degree 3.\n",
      "\n",
      "$$f(t) = t^3;  \\int_{-1}^1 t^3 dt = 0 = a t_1^3 + b t_2^3$$\n",
      "\n",
      "$$f(t) = t^2;  \\int_{-1}^1 t^2 dt = \\frac{2}{3} = at_1^2 +bt_2^2$$\n",
      "\n",
      "$$f(t) = t;    \\int_{-1}^1 t dt = 0 = at_1 + bt_2$$\n",
      "\n",
      "$$f(t) = 1;    \\int_{-1}^1 1dt = 2 = a + b$$\n",
      "\n",
      "Multiplying the third equation above by $t_1^2$, and subtracting fromt he first, we have\n",
      "\n",
      "$$0 = 0 + b[t_2^3 - t_2t_1^2] = b(t_2)(t_2-t_1)(t_2-t_1)$$\n",
      "\n",
      "We can satisfy this equation with either $b=0, t_2=0, t_1=t_2, t_2=-t_1,$ but only the last choice is satisfactory. We then find that:\n",
      "\n",
      "$$a = b = 1$$\n",
      "\n",
      "$$t_1 = -t_2 = \\sqrt(\\frac{1}{3}) = 0.5773$$\n",
      "\n",
      "$$\\int_{-1}^1 f(t)dt = f(-0.5773)+f(0.5773)$$\n",
      "\n",
      "It is quite amazing that by adding these two values of the function gives the exact value for the integral of any cubic polynomial over the interval from -1 to 1.\n",
      "\n",
      "Now suppose our limits of integration are from $a$ to $b$ instead of -1 to 1. To use the tabulated Gaussian quadrature parameters developed above we can utilize a change of variables to change the interval of integration back to -1 to 1. If we let \n",
      "\n",
      "$x=\\frac{(b-a)t+b+a}{2}$ so that $dx = (\\frac{b-a}{2})dt$, then\n",
      "\n",
      "$\\int_a^b f(x)dx = \\frac{b-a}{2} \\int_{-1}^1 f(\\frac{(b-a)t+b+a}{2})dt$"
     ]
    },
    {
     "cell_type": "markdown",
     "metadata": {},
     "source": [
      "In the above derivation the coefficients $a$ and $b$ were called *weights* in the case of 2 points the weights were equal to 1 therefore they did not show up in the final equation, but if we extend Gauss quadrature beyond 2 terms. The formula is then given by:\n",
      "\n",
      "$\\int_{-1}^1 f(t)dt = \\sum_{i=1}^n w_if(t_i)$, for $n$ points\n",
      "\n",
      "This formula is exact for functions $f(t)$ that are polynomails of degree $2n-1$ or less! If we extend the derivaiton for the 2-point formula, for each $n$ we obtain a system of $2 n$ equations:\n",
      "\n",
      "&nbsp;&nbsp;&nbsp;&nbsp;&nbsp;&nbsp;&nbsp;&nbsp;&nbsp;&nbsp;&nbsp;&nbsp;&nbsp;&nbsp;&nbsp;&nbsp;&nbsp;&nbsp;&nbsp;&nbsp;&nbsp;&nbsp;&nbsp;&nbsp;&nbsp;&nbsp;&nbsp;&nbsp;&nbsp;&nbsp;&nbsp;&nbsp;&nbsp;&nbsp;&nbsp; 0 for $k=1,3,5,...,2n-1$\n",
      "\n",
      "$ w_1t_1^k + ... + w_nt_n^k = \\big\\{$\n",
      "\n",
      "&nbsp;&nbsp;&nbsp;&nbsp;&nbsp;&nbsp;&nbsp;&nbsp;&nbsp;&nbsp;&nbsp;&nbsp;&nbsp;&nbsp;&nbsp;&nbsp;&nbsp;&nbsp;&nbsp;&nbsp;&nbsp;&nbsp;&nbsp;&nbsp;&nbsp;&nbsp;&nbsp;&nbsp;&nbsp;&nbsp;&nbsp;&nbsp;&nbsp;&nbsp;&nbsp; 0 for $k=0,2,4,...,2n-2$\n",
      "\n",
      "However, the system of equations we get by writing $f(t)$ as a succession of polynomails is tedious to solve in a straightforward manner. Techniques that recognize properties of Legendre polynomails can be utilized to simply the solution and this outlined in many texts. For our purposes we will just utilize the tabulated values that many others have already solved for us. Tables can be found that give values for up to 200-term formulas, below is a table that includes just a few:\n",
      "\n",
      "| Number of terms | Values of $t$ | Weighting Factor | Valid up to degree |\n",
      "|:---------------:|:-------------:|:----------------:|:------------------:|\n",
      "|2|-0.57735027|1.0|3|\n",
      "| | 0.57735027|1.0| |\n",
      "|3|-0.77459667|0.5555555555|5|\n",
      "| | 0.0 | 0.888888889| |\n",
      "| | 0.77459667|0.5555555555| |\n",
      "|4|-0.86113631|0.34785485|7|\n",
      "| |-0.33998104|0.65214515| |\n",
      "| | 0.33998104|0.65214515| |\n",
      "| | 0.86113631|0.34785485| |\n",
      "|5|-0.90617975|0.47862867|9|\n",
      "| |-0.53846931|0.47862867| |\n",
      "| | 0.0 | 0.56888889 | |\n",
      "| | 0.53846931|0.47862867| |\n",
      "| | 0.90617975|0.23692689| |"
     ]
    },
    {
     "cell_type": "markdown",
     "metadata": {},
     "source": [
      "## Gaussian quadrature for multiple integrals\n",
      "\n",
      "To apply Gaussian quadrature to \n",
      "\n",
      "$$\\int_a^b \\int_{c(x)}^{d(x)} f(x,y)dy dx$$\n",
      "\n",
      "we first transform, for each $x$ in $[a,b]$, the interval $[c(x), d(x)]$ to $[-1,1]$ and apply Gauss quadrature for the inside integral. This results in the following:\n",
      "\n",
      "$$\\int_a^b \\int_{c(x)}^{d(x)}f(x,y)dydx\\approx \\int_a^b \\frac{d(x)-c(x)}{2}\\sum_{i=1}^n w_i f\\left(x, \\frac{(d(x)-c(x))t_i + d(x)+c(x)}{2}\\right)dx$$\n",
      "\n",
      "Now the interval $[a,b]$ is transformed to $[-1,1]$ and Gauss quadrature is applied:\n",
      "\n",
      "$$\\int_a^b \\int_{c(x)}^{d(x)} f(x,y)dydx\\approx \\frac{b-a}{2}\\frac{d(x)-c(x)}{2} \\sum_{j=1}^m \\sum_{i=1}^n w_i W_j f \\left( \\frac{(b-a)s_j + b+a}{2}, \\frac{(d(x)-c(x))t_i+d(x)+c(x)}{2}\\right)$$\n",
      "\n",
      "where $x = \\frac{(b-a)s_j + b+ a}{2}$. \n",
      "\n",
      "We'll illustrate this using *python* for the arithmetic; we wish to evaluate the function:\n",
      "\n",
      "$$\\int_0^1 \\int_0^{x^2+1}xydydx$$\n",
      "\n",
      "After convering the limits of integration we have:\n",
      "\n",
      "$$\\frac{1}{4}\\int_{-1}^1 \\int_{-1}^1 \\frac{s+1}{2}\\left[\\frac{(x^2(s)+1)^2t+(x^2(s)+1)^2}{2}\\right] dt ds$$\n",
      "\n",
      "Now using *python*:"
     ]
    },
    {
     "cell_type": "code",
     "collapsed": false,
     "input": [],
     "language": "python",
     "metadata": {},
     "outputs": [],
     "prompt_number": 0
    },
    {
     "cell_type": "markdown",
     "metadata": {},
     "source": [
      "## Pseudocode for Gaussian Double Integration\n",
      "\n",
      "The approximate integral $\\int_a^b \\int_{c(x)}^{d(x)}f(x,y)dydx$ given the function $f(x,y)$, the interval $[a,b]$, and the order's $m$ and $n$ of Gauss quadrature desired.\n",
      "\n",
      "  1. $h_1 = \\frac{b-a}{2}$\n",
      "  1. $h_2 = \\frac{b+1}{2}$\n",
      "  1. $J = 0$\n",
      "  1. For $i = 1, 2, ..., m$ do Steps A-H\n",
      "    1. Set $JX=0$\n",
      "    1. $x=h_1 s_i + h_2$ where $s_i$ is the $i^{\"th\"}$ root ($t$ value) corresponding to an $m$-point Gauss quadrature\n",
      "    1. $d_1 = d(x)$\n",
      "    1. $c_1 = c(x)$\n",
      "    1. $k_1 = \\frac{d_1-c_1}{2}$\n",
      "    1. $k_2 = \\frac{d_1+c_1}{2}$\n",
      "    1. For $j=1,2,...,n$ do Steps a-c\n",
      "      1. Set $y=k_1t_j + k_2$, where $t_j$ is the $j^{\"th\"}$ root ($t$ value) corresponding to an $n$-point Gauss quadrature\n",
      "      1. Set $Q = f(x,y)$\n",
      "      1. Set $JX = JX + W_j Q$, where $W_j$ is the $j^{\"th\"}$ weighted value corresponding to an $n$-point Gauss quadrature\n",
      "    1. Set $J = J+w_i k_1 JX$, where $w_i$ is the $i^{\"th\"}$ weighted value corresponding to an $m$-point Gauss quadrature\n",
      "  1. $J=h_1 J$  "
     ]
    }
   ],
   "metadata": {}
  }
 ]
}